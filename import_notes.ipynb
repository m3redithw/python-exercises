{
 "cells": [
  {
   "cell_type": "markdown",
   "id": "4defd29b",
   "metadata": {},
   "source": [
    "# Imports\n",
    "We **import** libraries or modules into our current python session in order to use the functions, methods, or variables within it. We can also directly import specific functions, methods or variables, as opposed to the entire module."
   ]
  },
  {
   "cell_type": "markdown",
   "id": "4a4fac2c",
   "metadata": {},
   "source": [
    "## Terminology\n",
    "- A Module is an python file with a .py extension.\n",
    "\n",
    "    Modules contain functions and variables. A module can exist in:\n",
    "\n",
    "    - The python standard library\n",
    "    - Community developed packages\n",
    "    - Your working directory as a file that you have created. For example, this capstone project from the Darden cohort has modules named acquire, prepare, explore, preprocessing, and model that are imported into their jupyter notebook.\n",
    "\n",
    "- A **Package** is a directory that contains modules.\n",
    "\n",
    "    It can also consist of other packages, or 'sub-packages'. Packages are a way to distribute one or more modules. We install packages in order to be able to import modules or libraries for use.\n",
    "\n",
    "- A **Library** is a collection of code, data, documentation, and configuration, usually purpose built for specific tasks.\n",
    "\n",
    "    Libraries can be very large in scope like numpy, a library the forms the base for most other scientific packages in python, or matplotlib, the library we'll use for data visualization. Other libraries are smaller in scope, like requests, a library for sending HTTP requests.\n",
    "\n",
    "- The **Python Package Index**, PyPI, https://pypi.org/, is a repository of community developed Python packages.\n",
    "\n",
    "- Anaconda's **Conda** product is a package manager. It helps you find and install 3rd party packages."
   ]
  },
  {
   "cell_type": "markdown",
   "id": "45f068d8",
   "metadata": {},
   "source": [
    "## Import Sources\n",
    "There are 3 main sources from imports:\n",
    "1. The Python standard library\n",
    "\n",
    "    This comes with the Python language, and no special installation is needed in order to use it.\n",
    "\n",
    "\n",
    "2. 3rd party packages\n",
    "\n",
    "    3rd party packages are typically installed with a package manger, usually either conda or pip.\n",
    "\n",
    "    pip is the package manager that comes with the python language. You can use pip install to install packages from the Python Package Index.\n",
    "\n",
    "    conda is an alternative package management tool used by anaconda. You can use conda install to install packages published on through anaconda.\n",
    "\n",
    "    conda is generally preferred as it ensures that the versions of all installed libraries are compatible with each other, and the packages it makes available are all vetted by anaconda. While very rare, packages on pypi can by contain malicious code, as anyone can publish a package.\n",
    "\n",
    "    In general, you should research the libraries you are considering using before installing them. Visiting the project's github page, looking over the documentation, and seeing how active the community is are all good ideas.\n",
    "\n",
    "\n",
    "3. Our own code\n",
    "\n",
    "    We can break our code into separate files and use imports to use code from one file in another python file, or in a jupyter notebook. For this course, we will store imported modules in the same directory as the file that is importing them.\n",
    "    \n",
    "## Installing Packages\n",
    "We can only import the libraries and modules of packages that have been installed. In other words, in order to import a library or a module we have to install a package that contains it. Because we installed python with anaconda, we already have many 3rd party packages commonly used in data science work installed.\n",
    "\n",
    "To install additional packages, we run commands in the shell in our terminal application (not within a python session). For example:"
   ]
  },
  {
   "cell_type": "code",
   "execution_count": null,
   "id": "fc114895",
   "metadata": {},
   "outputs": [],
   "source": [
    "conda install somepackage"
   ]
  },
  {
   "cell_type": "markdown",
   "id": "c7855163",
   "metadata": {},
   "source": [
    "or"
   ]
  },
  {
   "cell_type": "code",
   "execution_count": null,
   "id": "ab2b65d3",
   "metadata": {},
   "outputs": [],
   "source": [
    "pip install somepackage"
   ]
  },
  {
   "cell_type": "markdown",
   "id": "ba81e14c",
   "metadata": {},
   "source": [
    "## Importing\n",
    "We can either import an entire module (or library) or just pieces of it, such as a specific function or variable. We can give **aliases** to anything we import.\n",
    "\n",
    "To import an entire module:"
   ]
  },
  {
   "cell_type": "code",
   "execution_count": null,
   "id": "501f1848",
   "metadata": {},
   "outputs": [],
   "source": [
    "import somemodule\n",
    "\n",
    "# ... later on in the code\n",
    "\n",
    "somemodule.somefunction()"
   ]
  },
  {
   "cell_type": "markdown",
   "id": "63dcb305",
   "metadata": {},
   "source": [
    "To reference variables or functions within the module we prefix the variable or function name with the name of the module and a period.\n",
    "\n",
    "To import a module with an alias:"
   ]
  },
  {
   "cell_type": "code",
   "execution_count": null,
   "id": "c9cfeb4c",
   "metadata": {},
   "outputs": [],
   "source": [
    "import somemodule as sm\n",
    "\n",
    "# ... later on in the code\n",
    "\n",
    "sm.somefunction()"
   ]
  },
  {
   "cell_type": "markdown",
   "id": "689480cd",
   "metadata": {},
   "source": [
    "Usually aliases are used to shorten longer module names, and to reference variables and functions within the module we prefix them with the alias and a period.\n",
    "\n",
    "To import specific parts of a module:"
   ]
  },
  {
   "cell_type": "code",
   "execution_count": null,
   "id": "c2cdde23",
   "metadata": {},
   "outputs": [],
   "source": [
    "# import a single function from somemodule\n",
    "from somemodule import somefunction\n",
    "# import multiple functions from anothermodule\n",
    "from anothermodule import anotherfunction, yetanotherfunction\n",
    "\n",
    "# ... later on in the code\n",
    "somefunction()\n",
    "anotherfunction()\n",
    "yetanotherfunction()"
   ]
  },
  {
   "cell_type": "markdown",
   "id": "d3937323",
   "metadata": {},
   "source": [
    "Like modules, we can give aliases to the specific pieces we import:"
   ]
  },
  {
   "cell_type": "code",
   "execution_count": null,
   "id": "dd488af2",
   "metadata": {},
   "outputs": [],
   "source": [
    "from somemodule import somefunction as some_func\n",
    "from anothermodule import anotherfunction as another_func, yetanotherfunction as yaf\n",
    "\n",
    "# ... later on in the code\n",
    "\n",
    "some_func()\n",
    "another_func()\n",
    "yaf()"
   ]
  },
  {
   "cell_type": "markdown",
   "id": "465473e8",
   "metadata": {},
   "source": [
    "## Importing Your Own Code\n",
    "When importing your own code, reference the name of the file without the .py extension."
   ]
  }
 ],
 "metadata": {
  "kernelspec": {
   "display_name": "Python 3 (ipykernel)",
   "language": "python",
   "name": "python3"
  },
  "language_info": {
   "codemirror_mode": {
    "name": "ipython",
    "version": 3
   },
   "file_extension": ".py",
   "mimetype": "text/x-python",
   "name": "python",
   "nbconvert_exporter": "python",
   "pygments_lexer": "ipython3",
   "version": "3.9.12"
  }
 },
 "nbformat": 4,
 "nbformat_minor": 5
}
