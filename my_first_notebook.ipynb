{
 "cells": [
  {
   "cell_type": "code",
   "execution_count": 2,
   "id": "d73314d0",
   "metadata": {},
   "outputs": [
    {
     "name": "stdout",
     "output_type": "stream",
     "text": [
      "Hello Kalpana!\n"
     ]
    }
   ],
   "source": [
    "# This is a my first notebook\n",
    "# This is for humans to read and understand what this piece of code is doing\n",
    "\n",
    "greeting = 'Hello Kalpana!'\n",
    "\n",
    "print (greeting)\n"
   ]
  },
  {
   "cell_type": "markdown",
   "id": "431968fc",
   "metadata": {},
   "source": [
    "## This is heading\n",
    "### This is sub-heading\n",
    "\n",
    "- This is a bullet"
   ]
  }
 ],
 "metadata": {
  "kernelspec": {
   "display_name": "Python 3 (ipykernel)",
   "language": "python",
   "name": "python3"
  },
  "language_info": {
   "codemirror_mode": {
    "name": "ipython",
    "version": 3
   },
   "file_extension": ".py",
   "mimetype": "text/x-python",
   "name": "python",
   "nbconvert_exporter": "python",
   "pygments_lexer": "ipython3",
   "version": "3.9.12"
  }
 },
 "nbformat": 4,
 "nbformat_minor": 5
}
