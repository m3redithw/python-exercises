{
 "cells": [
  {
   "cell_type": "code",
   "execution_count": 2,
   "id": "d73314d0",
   "metadata": {},
   "outputs": [
    {
     "name": "stdout",
     "output_type": "stream",
     "text": [
      "Hello Kalpana!\n"
     ]
    }
   ],
   "source": [
    "# This is a my first notebook\n",
    "# This is for humans to read and understand what this piece of code is doing\n",
    "\n",
    "greeting = 'Hello Kalpana!'\n",
    "\n",
    "print (greeting)\n"
   ]
  },
  {
   "cell_type": "markdown",
   "id": "431968fc",
   "metadata": {},
   "source": [
    "## This is heading\n",
    "### This is sub-heading\n",
    "\n",
    "- This is a bullet"
   ]
  },
  {
   "cell_type": "code",
   "execution_count": 1,
   "id": "0a6e6a88",
   "metadata": {},
   "outputs": [
    {
     "name": "stdout",
     "output_type": "stream",
     "text": [
      "Hi!\n"
     ]
    }
   ],
   "source": [
    "print('Hi!')"
   ]
  },
  {
   "cell_type": "code",
   "execution_count": 2,
   "id": "8d56cd62",
   "metadata": {},
   "outputs": [
    {
     "name": "stdout",
     "output_type": "stream",
     "text": [
      "Hi again!\n"
     ]
    }
   ],
   "source": [
    "print(\"Hi again!\")"
   ]
  },
  {
   "cell_type": "code",
   "execution_count": 3,
   "id": "5ad99064",
   "metadata": {},
   "outputs": [
    {
     "name": "stdout",
     "output_type": "stream",
     "text": [
      "initiated datasets repo at: /Users/williambaldridge/.pydataset/\n"
     ]
    }
   ],
   "source": [
    "import pydataset"
   ]
  }
 ],
 "metadata": {
  "kernelspec": {
   "display_name": "Python 3 (ipykernel)",
   "language": "python",
   "name": "python3"
  },
  "language_info": {
   "codemirror_mode": {
    "name": "ipython",
    "version": 3
   },
   "file_extension": ".py",
   "mimetype": "text/x-python",
   "name": "python",
   "nbconvert_exporter": "python",
   "pygments_lexer": "ipython3",
   "version": "3.9.12"
  }
 },
 "nbformat": 4,
 "nbformat_minor": 5
}
