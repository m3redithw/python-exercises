{
 "cells": [
  {
   "cell_type": "markdown",
   "id": "3f284e5f",
   "metadata": {},
   "source": [
    "# Functions\n"
   ]
  },
  {
   "cell_type": "markdown",
   "id": "dc791b4c",
   "metadata": {},
   "source": [
    "## Using Functions\n",
    "To run, or invoke a function, we call the function by it's name, followed by a set of parenthesis. Inside the the parenthesis are any arguments. Note that writing the name of the function by itself (i.e. without parenthesis) will refer to the function itself, as opposed to running it."
   ]
  },
  {
   "cell_type": "markdown",
   "id": "8f11f7eb",
   "metadata": {},
   "source": [
    "- we've already used built-ins"
   ]
  },
  {
   "cell_type": "code",
   "execution_count": 1,
   "id": "e6c0e52d",
   "metadata": {},
   "outputs": [
    {
     "data": {
      "text/plain": [
       "<function max>"
      ]
     },
     "execution_count": 1,
     "metadata": {},
     "output_type": "execute_result"
    }
   ],
   "source": [
    "# a reference to the max function\n",
    "max"
   ]
  },
  {
   "cell_type": "code",
   "execution_count": 3,
   "id": "b8043c1b",
   "metadata": {},
   "outputs": [
    {
     "data": {
      "text/plain": [
       "4"
      ]
     },
     "execution_count": 3,
     "metadata": {},
     "output_type": "execute_result"
    }
   ],
   "source": [
    "# calling the max function with 1 argument, a list of numbers\n",
    "max([4, 2, 3, 1])"
   ]
  },
  {
   "cell_type": "markdown",
   "id": "ae4f8ee3",
   "metadata": {},
   "source": [
    "The value our function produces, also called the return value, can be assigned to a variable, or used as an argument to another function"
   ]
  },
  {
   "cell_type": "code",
   "execution_count": 4,
   "id": "4c6b5bde",
   "metadata": {},
   "outputs": [
    {
     "name": "stdout",
     "output_type": "stream",
     "text": [
      "4\n"
     ]
    }
   ],
   "source": [
    "maximum_number = max([4, 2, 3, 1])\n",
    "print(maximum_number)"
   ]
  },
  {
   "cell_type": "code",
   "execution_count": 5,
   "id": "8c6b11fa",
   "metadata": {},
   "outputs": [
    {
     "name": "stdout",
     "output_type": "stream",
     "text": [
      "The max is: 4\n"
     ]
    }
   ],
   "source": [
    "print('The max is: ' + str(max([4, 2, 3, 1])))"
   ]
  },
  {
   "cell_type": "markdown",
   "id": "cd6969d1",
   "metadata": {},
   "source": [
    "## Defining Functions\n",
    "In addition to the built-in functions that are part of the Python language, we can define our own functions. To illustrate this, let's take a look at a very simple function that takes in a number and returns the number plus one."
   ]
  },
  {
   "cell_type": "code",
   "execution_count": 6,
   "id": "4c88f5e2",
   "metadata": {},
   "outputs": [],
   "source": [
    "def increment(n):\n",
    "    return n + 1"
   ]
  },
  {
   "cell_type": "markdown",
   "id": "86fc62ad",
   "metadata": {},
   "source": [
    "A function definition is made up of several parts:\n",
    "\n",
    "- the keyword def\n",
    "- the name of the function, in the example above, increment\n",
    "- a set of parenthesis that define the inputs (or parameters) to the function\n",
    "- the body of the function (everything that is indented after the first line defining the function)\n",
    "- a return statement inside the body of the function\n",
    "\n",
    "Whatever expression follows the return keyword will be the output of the function we've defined."
   ]
  },
  {
   "cell_type": "code",
   "execution_count": 7,
   "id": "76c3e1e3",
   "metadata": {},
   "outputs": [
    {
     "name": "stdout",
     "output_type": "stream",
     "text": [
      "6\n"
     ]
    }
   ],
   "source": [
    "six = increment(increment(increment(3)))\n",
    "\n",
    "print(six)"
   ]
  },
  {
   "cell_type": "markdown",
   "id": "f1b05f40",
   "metadata": {},
   "source": [
    "We can imagine the code executing like this:"
   ]
  },
  {
   "cell_type": "code",
   "execution_count": 8,
   "id": "8d5d290f",
   "metadata": {},
   "outputs": [],
   "source": [
    "six = increment(increment(increment(3)))\n",
    "six = increment(increment(4))\n",
    "six = increment(5)\n",
    "six = 6"
   ]
  },
  {
   "cell_type": "markdown",
   "id": "2760a07d",
   "metadata": {},
   "source": [
    "Let's look at another example of return values:\n"
   ]
  },
  {
   "cell_type": "code",
   "execution_count": 9,
   "id": "424f22de",
   "metadata": {},
   "outputs": [
    {
     "data": {
      "text/plain": [
       "4"
      ]
     },
     "execution_count": 9,
     "metadata": {},
     "output_type": "execute_result"
    }
   ],
   "source": [
    "def increment(n):\n",
    "    return n + 1\n",
    "    print('You will never see this')\n",
    "    return n + 1\n",
    "\n",
    "increment(3)"
   ]
  },
  {
   "cell_type": "markdown",
   "id": "34db2002",
   "metadata": {},
   "source": [
    "When a return statement is encountered, the function will immediately return to where it is called. Put another way: a function only ever execute one return statement, and when a return statement is reached, no more code in the function will be executed.\n",
    "\n"
   ]
  },
  {
   "cell_type": "markdown",
   "id": "147a446e",
   "metadata": {},
   "source": [
    "## Arugements / Parameters\n",
    "- an *argument* is the value a function is called with\n",
    "- a *parameter* is part of a function's definition; a placeholder for an argument\n",
    "\n",
    "You can think of parameters as a special kind of variable that takes on the value of the function's arguments each time it is called."
   ]
  },
  {
   "cell_type": "code",
   "execution_count": 11,
   "id": "eede0c6d",
   "metadata": {},
   "outputs": [],
   "source": [
    "def add(a, b): # a, b --> parameters\n",
    "    result = a + b\n",
    "    return result\n",
    "\n",
    "x = 3\n",
    "seven = add(x, 4) # the value of x, and 4 --> arguments"
   ]
  },
  {
   "cell_type": "markdown",
   "id": "c209a035",
   "metadata": {},
   "source": [
    "Here a and b are the parameters of the add function.\n",
    "\n",
    "On the last line above, when the function is called, the arguments are the value of the variable x, and 4."
   ]
  },
  {
   "cell_type": "markdown",
   "id": "d4b99cda",
   "metadata": {},
   "source": [
    "## Default Values\n",
    "Functions can define default values for parameters, which allows you to either specify the argument or leave it out when the function is called."
   ]
  },
  {
   "cell_type": "code",
   "execution_count": 14,
   "id": "470fae02",
   "metadata": {},
   "outputs": [],
   "source": [
    "def sayhello(name='World', greeting='Hello'):\n",
    "    return '{}, {}!'.format(greeting, name)\n",
    "\n",
    "# This function can be called with no arguments, and the specified default values will be used,\n",
    "# or we can expliciltly pass a name, or a name and a greeting."
   ]
  },
  {
   "cell_type": "code",
   "execution_count": 15,
   "id": "571f03a4",
   "metadata": {},
   "outputs": [
    {
     "data": {
      "text/plain": [
       "'Hello, World!'"
      ]
     },
     "execution_count": 15,
     "metadata": {},
     "output_type": "execute_result"
    }
   ],
   "source": [
    "sayhello()"
   ]
  },
  {
   "cell_type": "code",
   "execution_count": 16,
   "id": "23b71a3d",
   "metadata": {},
   "outputs": [
    {
     "data": {
      "text/plain": [
       "'Hello, Codeup!'"
      ]
     },
     "execution_count": 16,
     "metadata": {},
     "output_type": "execute_result"
    }
   ],
   "source": [
    "sayhello('Codeup')"
   ]
  },
  {
   "cell_type": "code",
   "execution_count": 18,
   "id": "24c4f4f3",
   "metadata": {},
   "outputs": [
    {
     "data": {
      "text/plain": [
       "'Salutations, Codeup!'"
      ]
     },
     "execution_count": 18,
     "metadata": {},
     "output_type": "execute_result"
    }
   ],
   "source": [
    "sayhello('Codeup', 'Salutations')"
   ]
  },
  {
   "cell_type": "markdown",
   "id": "707a216c",
   "metadata": {},
   "source": [
    "## Keyword Arguments\n",
    "Thus far, we have seen examples of functions that rely on positional arguments. Which string was assigned to name and which string was assigned to greeting depended on the position of the arguments, that is, which one was specified first and which one was second.\n",
    "\n",
    "We can also specify arguments by their name."
   ]
  },
  {
   "cell_type": "code",
   "execution_count": 19,
   "id": "4098709c",
   "metadata": {},
   "outputs": [
    {
     "data": {
      "text/plain": [
       "'Salutations, Codeup!'"
      ]
     },
     "execution_count": 19,
     "metadata": {},
     "output_type": "execute_result"
    }
   ],
   "source": [
    "sayhello(greeting='Salutations', name='Codeup')"
   ]
  },
  {
   "cell_type": "markdown",
   "id": "2f2000c5",
   "metadata": {},
   "source": [
    "When arguments are specified in this way we say they are keyword arguments, and their order does not matter. The only restriction is that keyword arguments must come after any positional arguments."
   ]
  },
  {
   "cell_type": "code",
   "execution_count": 20,
   "id": "3f0bdb20",
   "metadata": {},
   "outputs": [
    {
     "data": {
      "text/plain": [
       "'Salutations, Codeup!'"
      ]
     },
     "execution_count": 20,
     "metadata": {},
     "output_type": "execute_result"
    }
   ],
   "source": [
    "sayhello('Codeup', greeting='Salutations') # Okay"
   ]
  },
  {
   "cell_type": "code",
   "execution_count": 21,
   "id": "b599a65d",
   "metadata": {
    "scrolled": true
   },
   "outputs": [
    {
     "ename": "SyntaxError",
     "evalue": "positional argument follows keyword argument (1750871554.py, line 1)",
     "output_type": "error",
     "traceback": [
      "\u001b[0;36m  Input \u001b[0;32mIn [21]\u001b[0;36m\u001b[0m\n\u001b[0;31m    sayhello(greeting='Salutations', 'Codeup') # ERROR!\u001b[0m\n\u001b[0m                                             ^\u001b[0m\n\u001b[0;31mSyntaxError\u001b[0m\u001b[0;31m:\u001b[0m positional argument follows keyword argument\n"
     ]
    }
   ],
   "source": [
    "sayhello(greeting='Salutations', 'Codeup') # ERROR!"
   ]
  },
  {
   "cell_type": "markdown",
   "id": "f2511283",
   "metadata": {},
   "source": [
    "## Calling Functions\n",
    "Python provides a way to unpack either a list or a dictionary to use them as function arguments."
   ]
  },
  {
   "cell_type": "code",
   "execution_count": 22,
   "id": "17c50c82",
   "metadata": {},
   "outputs": [
    {
     "data": {
      "text/plain": [
       "'Salutations, Codeup!'"
      ]
     },
     "execution_count": 22,
     "metadata": {},
     "output_type": "execute_result"
    }
   ],
   "source": [
    "args = ['Codeup', 'Salutations']\n",
    "\n",
    "sayhello(*args)"
   ]
  },
  {
   "cell_type": "markdown",
   "id": "afcdf3a6",
   "metadata": {},
   "source": [
    "Using the * operator in front of a list makes as though we had used each element in the list as an argument to the function. The order of the elements in the list will be the order that they are passed as positional arguments to the function.\n",
    "\n",
    "Similarly, we can unpack a dictionary to use it's values as keyword arguments to a function using the ** operator."
   ]
  },
  {
   "cell_type": "code",
   "execution_count": 23,
   "id": "789af299",
   "metadata": {},
   "outputs": [
    {
     "data": {
      "text/plain": [
       "'Salutations, Codeup!'"
      ]
     },
     "execution_count": 23,
     "metadata": {},
     "output_type": "execute_result"
    }
   ],
   "source": [
    "kwargs = {'greeting': 'Salutations', 'name': 'Codeup'}\n",
    "\n",
    "sayhello(**kwargs)"
   ]
  },
  {
   "cell_type": "markdown",
   "id": "fff2cad2",
   "metadata": {},
   "source": [
    "## Function Scope\n",
    "Scope is a term that describes where a variable can be referenced. If a variable is in-scope, then you can reference it, if it is out-of-scope then you cannot. Variables created inside of a function are local variables and are only in scope inside of the function they are defined in. Variables created outside of functions are global variables and are accessible inside of any function."
   ]
  },
  {
   "cell_type": "code",
   "execution_count": null,
   "id": "32195a7f",
   "metadata": {},
   "outputs": [],
   "source": [
    "# We can access global variables from anywhere:"
   ]
  },
  {
   "cell_type": "code",
   "execution_count": 24,
   "id": "2473334b",
   "metadata": {},
   "outputs": [
    {
     "name": "stdout",
     "output_type": "stream",
     "text": [
      "Inside the function: 42\n",
      "Outside the function: 42\n"
     ]
    }
   ],
   "source": [
    "a_global_variable = 42\n",
    "\n",
    "def somefunction():\n",
    "    print('Inside the function: %s' % a_global_variable)\n",
    "\n",
    "somefunction()\n",
    "print('Outside the function: %s' % a_global_variable)\n"
   ]
  },
  {
   "cell_type": "code",
   "execution_count": null,
   "id": "f92a2ea1",
   "metadata": {},
   "outputs": [],
   "source": [
    "# variables defined within a functino are only available in the function body:"
   ]
  },
  {
   "cell_type": "code",
   "execution_count": 25,
   "id": "f006a565",
   "metadata": {},
   "outputs": [
    {
     "name": "stdout",
     "output_type": "stream",
     "text": [
      "Inside the function: pizza\n"
     ]
    },
    {
     "ename": "NameError",
     "evalue": "name 'a_local_variable' is not defined",
     "output_type": "error",
     "traceback": [
      "\u001b[0;31m---------------------------------------------------------------------------\u001b[0m",
      "\u001b[0;31mNameError\u001b[0m                                 Traceback (most recent call last)",
      "Input \u001b[0;32mIn [25]\u001b[0m, in \u001b[0;36m<cell line: 6>\u001b[0;34m()\u001b[0m\n\u001b[1;32m      3\u001b[0m     \u001b[38;5;28mprint\u001b[39m(\u001b[38;5;124m'\u001b[39m\u001b[38;5;124mInside the function: \u001b[39m\u001b[38;5;132;01m%s\u001b[39;00m\u001b[38;5;124m'\u001b[39m \u001b[38;5;241m%\u001b[39m a_local_variable)\n\u001b[1;32m      5\u001b[0m somefunction()\n\u001b[0;32m----> 6\u001b[0m \u001b[38;5;28mprint\u001b[39m(\u001b[38;5;124m'\u001b[39m\u001b[38;5;124mOutside the function: \u001b[39m\u001b[38;5;132;01m%s\u001b[39;00m\u001b[38;5;124m'\u001b[39m \u001b[38;5;241m%\u001b[39m \u001b[43ma_local_variable\u001b[49m)\n",
      "\u001b[0;31mNameError\u001b[0m: name 'a_local_variable' is not defined"
     ]
    }
   ],
   "source": [
    "def somefunction():\n",
    "    a_local_variable = 'pizza'\n",
    "    print('Inside the function: %s' % a_local_variable)\n",
    "\n",
    "somefunction()\n",
    "print('Outside the function: %s' % a_local_variable)\n"
   ]
  },
  {
   "cell_type": "markdown",
   "id": "94f195ee",
   "metadata": {},
   "source": [
    "When we try to print a_local_variable outside the function, it is no longer in-scope, and we get an error saying that the variable is not defined."
   ]
  },
  {
   "cell_type": "markdown",
   "id": "6775b73d",
   "metadata": {},
   "source": [
    "## Lambda Functions\n",
    "For functions that contain a single return statement in the function body, python provides a lamdba function. This is a function that accepts 0 or more inputs, and only executes a single return statement (note the return keyword is implied and not required)."
   ]
  },
  {
   "cell_type": "code",
   "execution_count": 26,
   "id": "c2ecf6dc",
   "metadata": {},
   "outputs": [
    {
     "data": {
      "text/plain": [
       "10"
      ]
     },
     "execution_count": 26,
     "metadata": {},
     "output_type": "execute_result"
    }
   ],
   "source": [
    "add_one = lambda n: n + 1\n",
    "add_one(9)"
   ]
  },
  {
   "cell_type": "code",
   "execution_count": 27,
   "id": "bb3f3697",
   "metadata": {},
   "outputs": [
    {
     "data": {
      "text/plain": [
       "81"
      ]
     },
     "execution_count": 27,
     "metadata": {},
     "output_type": "execute_result"
    }
   ],
   "source": [
    "square = lambda n: n ** 2\n",
    "square(9)"
   ]
  },
  {
   "cell_type": "code",
   "execution_count": null,
   "id": "278677eb",
   "metadata": {},
   "outputs": [],
   "source": []
  },
  {
   "cell_type": "code",
   "execution_count": null,
   "id": "e30aed2f",
   "metadata": {},
   "outputs": [],
   "source": []
  },
  {
   "cell_type": "code",
   "execution_count": null,
   "id": "bb23df07",
   "metadata": {},
   "outputs": [],
   "source": []
  },
  {
   "cell_type": "code",
   "execution_count": null,
   "id": "5c7ad793",
   "metadata": {},
   "outputs": [],
   "source": []
  }
 ],
 "metadata": {
  "kernelspec": {
   "display_name": "Python 3 (ipykernel)",
   "language": "python",
   "name": "python3"
  },
  "language_info": {
   "codemirror_mode": {
    "name": "ipython",
    "version": 3
   },
   "file_extension": ".py",
   "mimetype": "text/x-python",
   "name": "python",
   "nbconvert_exporter": "python",
   "pygments_lexer": "ipython3",
   "version": "3.9.12"
  }
 },
 "nbformat": 4,
 "nbformat_minor": 5
}
