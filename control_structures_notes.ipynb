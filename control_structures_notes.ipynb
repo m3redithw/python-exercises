{
 "cells": [
  {
   "cell_type": "markdown",
   "id": "0ea8e710",
   "metadata": {},
   "source": [
    "# Control Structures\n",
    "2 primary ways of controlling the flow of execution of our Python scripts:\n",
    "\n",
    "- conditionals: allow us to execute code conditionally\n",
    "- loops: allow us to execute code repeatedly\n"
   ]
  },
  {
   "cell_type": "markdown",
   "id": "c62d9d7a",
   "metadata": {},
   "source": [
    "## Conditionals\n",
    "If condition is an \"if this then that\""
   ]
  },
  {
   "cell_type": "code",
   "execution_count": 1,
   "id": "ca7b4ab6",
   "metadata": {},
   "outputs": [
    {
     "name": "stdout",
     "output_type": "stream",
     "text": [
      "I like coffee!\n",
      "Coffee is the best!\n"
     ]
    }
   ],
   "source": [
    "i_like_coffee = True\n",
    "\n",
    "if i_like_coffee:\n",
    "    print('I like coffee!')\n",
    "    print('Coffee is the best!')"
   ]
  },
  {
   "cell_type": "code",
   "execution_count": 4,
   "id": "3ec502a8",
   "metadata": {},
   "outputs": [
    {
     "name": "stdout",
     "output_type": "stream",
     "text": [
      "The number is even\n",
      "Greeting!\n",
      "Complete\n"
     ]
    }
   ],
   "source": [
    "x = 6\n",
    "\n",
    "r = x % 2\n",
    "if r == 0:\n",
    "    print('The number is even')\n",
    "    print('Greeting!')\n",
    "print('Complete')"
   ]
  },
  {
   "cell_type": "markdown",
   "id": "3db07020",
   "metadata": {},
   "source": [
    "If this then that, Otherwise"
   ]
  },
  {
   "cell_type": "code",
   "execution_count": 6,
   "id": "e1ec0a13",
   "metadata": {},
   "outputs": [
    {
     "name": "stdout",
     "output_type": "stream",
     "text": [
      "the number is odd\n",
      "Complete\n"
     ]
    }
   ],
   "source": [
    "x = 5\n",
    "r = x % 2\n",
    "if r == 0:\n",
    "    print('The number is even')\n",
    "# if r == 1:\n",
    "#     print('This is an odd number')\n",
    "\n",
    "else:\n",
    "    print('the number is odd')\n",
    "    \n",
    "print('Complete')"
   ]
  },
  {
   "cell_type": "code",
   "execution_count": 7,
   "id": "a82d49ed",
   "metadata": {},
   "outputs": [],
   "source": [
    "# Example:\n",
    "\n",
    "# 1 == > ONE\n",
    "# 2 == > TWO\n",
    "# 3 == > THREE\n",
    "\n",
    "x = 2\n",
    "if x == 1:\n",
    "    print('ONE')\n",
    "elif x == 2:\n",
    "    print('TWO')\n",
    "elif x == 3:\n",
    "    print('THREE')\n",
    "else x == 4:\n",
    "    print('FOUR')"
   ]
  },
  {
   "cell_type": "markdown",
   "id": "443eeb51",
   "metadata": {},
   "source": [
    "## Loops\n",
    "Python has 2 primary looping mechanisms:\n",
    "\n",
    "- for for running a block of code a set number of times\n",
    "- while for running a block of code until a condition is met\n"
   ]
  },
  {
   "cell_type": "markdown",
   "id": "03445f12",
   "metadata": {},
   "source": [
    "### For"
   ]
  },
  {
   "cell_type": "code",
   "execution_count": 8,
   "id": "0f968b9c",
   "metadata": {},
   "outputs": [
    {
     "name": "stdout",
     "output_type": "stream",
     "text": [
      "2\n",
      "4\n",
      "6\n",
      "8\n",
      "10\n",
      "12\n"
     ]
    }
   ],
   "source": [
    "l = [1,2,3,4,5,6]\n",
    "\n",
    "for num in l:\n",
    "    print(num * 2)"
   ]
  },
  {
   "cell_type": "code",
   "execution_count": 11,
   "id": "b44cc653",
   "metadata": {},
   "outputs": [
    {
     "name": "stdout",
     "output_type": "stream",
     "text": [
      "1 is an odd number\n",
      "2 is an even nubmer\n",
      "3 is an odd number\n",
      "4 is an even nubmer\n",
      "5 is an odd number\n",
      "6 is an even nubmer\n",
      "7 is an odd number\n",
      "8 is an even nubmer\n",
      "9 is an odd number\n",
      "10 is an even nubmer\n",
      "11 is an odd number\n",
      "12 is an even nubmer\n",
      "13 is an odd number\n",
      "14 is an even nubmer\n",
      "15 is an odd number\n",
      "16 is an even nubmer\n",
      "17 is an odd number\n",
      "18 is an even nubmer\n",
      "19 is an odd number\n",
      "20 is an even nubmer\n"
     ]
    }
   ],
   "source": [
    "# print whether number is odd or even\n",
    "list(range(0, 21))\n",
    "\n",
    "for num in range(1,21):\n",
    "    if num % 2 == 0:\n",
    "        print(num, 'is an even nubmer')\n",
    "    else:\n",
    "        print(num, 'is an odd number')"
   ]
  },
  {
   "cell_type": "code",
   "execution_count": null,
   "id": "b06a8d63",
   "metadata": {},
   "outputs": [],
   "source": [
    "# output in a list"
   ]
  },
  {
   "cell_type": "code",
   "execution_count": 12,
   "id": "e25cd85f",
   "metadata": {},
   "outputs": [],
   "source": [
    "l = []\n",
    "for num in range(1,21):\n",
    "    if num % 2 == 0:\n",
    "        l.append(num)"
   ]
  },
  {
   "cell_type": "code",
   "execution_count": 13,
   "id": "697cf110",
   "metadata": {},
   "outputs": [
    {
     "data": {
      "text/plain": [
       "[2, 4, 6, 8, 10, 12, 14, 16, 18, 20]"
      ]
     },
     "execution_count": 13,
     "metadata": {},
     "output_type": "execute_result"
    }
   ],
   "source": [
    "l"
   ]
  },
  {
   "cell_type": "code",
   "execution_count": 14,
   "id": "6ca426ab",
   "metadata": {},
   "outputs": [
    {
     "data": {
      "text/plain": [
       "[2, 4, 6, 8, 10, 12, 14, 16, 18, 20]"
      ]
     },
     "execution_count": 14,
     "metadata": {},
     "output_type": "execute_result"
    }
   ],
   "source": [
    "# list comprehension\n",
    "[num for num in range(1,21) if num % 2 == 0]"
   ]
  },
  {
   "cell_type": "markdown",
   "id": "7c4ae263",
   "metadata": {},
   "source": [
    "## While\n",
    "The while loop will execute it's body until the condition evaluates to false."
   ]
  },
  {
   "cell_type": "code",
   "execution_count": null,
   "id": "5b221301",
   "metadata": {},
   "outputs": [],
   "source": [
    "# while (some condition is true):\n",
    "    # keep doing this\n",
    "    # re-evaluate"
   ]
  },
  {
   "cell_type": "code",
   "execution_count": 15,
   "id": "fc18a86b",
   "metadata": {},
   "outputs": [
    {
     "name": "stdout",
     "output_type": "stream",
     "text": [
      "1\n",
      "2\n",
      "3\n",
      "4\n",
      "5\n",
      "6\n",
      "7\n",
      "8\n",
      "9\n"
     ]
    }
   ],
   "source": [
    "i = 1\n",
    "while i < 10:\n",
    "    print(i)\n",
    "    i = i + 1"
   ]
  },
  {
   "cell_type": "code",
   "execution_count": 18,
   "id": "12574f67",
   "metadata": {},
   "outputs": [
    {
     "name": "stdout",
     "output_type": "stream",
     "text": [
      "Please input your password: dfgdh\n",
      "The password is incorrect\n",
      "Please input your password: password123\n",
      "The password is incorrect\n",
      "Please input your password: password1234\n",
      "Please proceed\n"
     ]
    }
   ],
   "source": [
    "stored_password = 'password1234'\n",
    "user_input = input('Please input your password: ')\n",
    "\n",
    "while stored_password != user_input:\n",
    "    print('The password is incorrect')\n",
    "    user_input = input('Please input your password: ')\n",
    "    \n",
    "print('Please proceed')"
   ]
  },
  {
   "cell_type": "markdown",
   "id": "2cf250fc",
   "metadata": {},
   "source": [
    "## Break\n",
    "- break will stop executing the loop entirely"
   ]
  },
  {
   "cell_type": "code",
   "execution_count": 20,
   "id": "4ad7f4bf",
   "metadata": {},
   "outputs": [
    {
     "name": "stdout",
     "output_type": "stream",
     "text": [
      "2 is a even number\n",
      "4 is a even number\n",
      "6 is a even number\n"
     ]
    }
   ],
   "source": [
    "for num in range(1,11):\n",
    "    if num > 7:\n",
    "        break\n",
    "    if num % 2 == 0:\n",
    "        print(num, 'is a even number')"
   ]
  },
  {
   "cell_type": "code",
   "execution_count": 24,
   "id": "ee67cff1",
   "metadata": {},
   "outputs": [
    {
     "name": "stdout",
     "output_type": "stream",
     "text": [
      "1 Here is your candy!\n",
      "2 Here is your candy!\n",
      "3 Here is your candy!\n",
      "4 Here is your candy!\n",
      "5 Here is your candy!\n",
      "Sorry, Out of Candies!\n"
     ]
    }
   ],
   "source": [
    "user_input = 8\n",
    "i = 1\n",
    "available_candies = 5\n",
    "\n",
    "while i<= user_input:\n",
    "    if i > available_candies:\n",
    "        print('Sorry, Out of Candies!')\n",
    "        break\n",
    "    print(i, 'Here is your candy!')\n",
    "    i = i + 1"
   ]
  },
  {
   "cell_type": "markdown",
   "id": "db7993ce",
   "metadata": {},
   "source": [
    "## Continue\n",
    "- continue will skip to the next iteration of a loop"
   ]
  },
  {
   "cell_type": "code",
   "execution_count": 25,
   "id": "509a994b",
   "metadata": {},
   "outputs": [
    {
     "name": "stdout",
     "output_type": "stream",
     "text": [
      "1 is an odd number\n",
      "3 is an odd number\n",
      "5 is an odd number\n",
      "7 is an odd number\n",
      "9 is an odd number\n"
     ]
    }
   ],
   "source": [
    "for num in range(1, 11):\n",
    "    if num % 2 == 0:\n",
    "        continue\n",
    "    else:\n",
    "        print(num, 'is an odd number')"
   ]
  }
 ],
 "metadata": {
  "kernelspec": {
   "display_name": "Python 3 (ipykernel)",
   "language": "python",
   "name": "python3"
  },
  "language_info": {
   "codemirror_mode": {
    "name": "ipython",
    "version": 3
   },
   "file_extension": ".py",
   "mimetype": "text/x-python",
   "name": "python",
   "nbconvert_exporter": "python",
   "pygments_lexer": "ipython3",
   "version": "3.9.12"
  }
 },
 "nbformat": 4,
 "nbformat_minor": 5
}
