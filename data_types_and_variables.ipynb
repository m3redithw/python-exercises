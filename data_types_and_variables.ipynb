{
 "cells": [
  {
   "cell_type": "markdown",
   "id": "cd577ec7",
   "metadata": {},
   "source": [
    "## Data Types, Variables, and Operators\n",
    "\n",
    "- bool: boolean values, either True or False; an answer to a yes/no question\n",
    "- str (string) a sequence of characters \"strung\" together\n",
    "- int: whole, or counting numbers\n",
    "- float: decimal numbers\n",
    "- list: an ordered sequence of objects\n",
    "- dict: a collection of values that have names\n",
    "- NoneType: a special value that indicates absence of a value"
   ]
  },
  {
   "cell_type": "code",
   "execution_count": 1,
   "id": "310ddb31",
   "metadata": {},
   "outputs": [
    {
     "data": {
      "text/plain": [
       "int"
      ]
     },
     "execution_count": 1,
     "metadata": {},
     "output_type": "execute_result"
    }
   ],
   "source": [
    "type(123)"
   ]
  },
  {
   "cell_type": "code",
   "execution_count": 2,
   "id": "83d154b5",
   "metadata": {},
   "outputs": [
    {
     "data": {
      "text/plain": [
       "str"
      ]
     },
     "execution_count": 2,
     "metadata": {},
     "output_type": "execute_result"
    }
   ],
   "source": [
    "type('Hello')"
   ]
  },
  {
   "cell_type": "code",
   "execution_count": 4,
   "id": "a652a06c",
   "metadata": {},
   "outputs": [
    {
     "data": {
      "text/plain": [
       "bool"
      ]
     },
     "execution_count": 4,
     "metadata": {},
     "output_type": "execute_result"
    }
   ],
   "source": [
    "type(True)"
   ]
  },
  {
   "cell_type": "code",
   "execution_count": 8,
   "id": "9dd0941f",
   "metadata": {},
   "outputs": [
    {
     "name": "stdout",
     "output_type": "stream",
     "text": [
      "Please enter your age: 22\n"
     ]
    }
   ],
   "source": [
    "age = input('Please enter your age: ')"
   ]
  },
  {
   "cell_type": "code",
   "execution_count": 9,
   "id": "13c4bb98",
   "metadata": {},
   "outputs": [
    {
     "data": {
      "text/plain": [
       "str"
      ]
     },
     "execution_count": 9,
     "metadata": {},
     "output_type": "execute_result"
    }
   ],
   "source": [
    "type(age) # input type will always be string"
   ]
  },
  {
   "cell_type": "code",
   "execution_count": 1,
   "id": "5dc1a574",
   "metadata": {},
   "outputs": [
    {
     "data": {
      "text/plain": [
       "NoneType"
      ]
     },
     "execution_count": 1,
     "metadata": {},
     "output_type": "execute_result"
    }
   ],
   "source": [
    "type(None)"
   ]
  },
  {
   "cell_type": "code",
   "execution_count": 2,
   "id": "c97454f1",
   "metadata": {},
   "outputs": [
    {
     "name": "stdout",
     "output_type": "stream",
     "text": [
      "5\n"
     ]
    }
   ],
   "source": [
    "x = print(5)"
   ]
  },
  {
   "cell_type": "code",
   "execution_count": 6,
   "id": "c9b4c6a5",
   "metadata": {},
   "outputs": [
    {
     "data": {
      "text/plain": [
       "True"
      ]
     },
     "execution_count": 6,
     "metadata": {},
     "output_type": "execute_result"
    }
   ],
   "source": [
    "x is None"
   ]
  },
  {
   "cell_type": "markdown",
   "id": "7fc6e60a",
   "metadata": {},
   "source": [
    "## Variables\n",
    "Variables are created by choosing a valid identifier and using the assignment operator, =.\n",
    "\n",
    "= operator **DOES NOT** mean equal to, it means *assign* to.\n",
    "\n",
    "== to express equality comparison in Python."
   ]
  },
  {
   "cell_type": "code",
   "execution_count": 6,
   "id": "94f116eb",
   "metadata": {},
   "outputs": [
    {
     "name": "stdout",
     "output_type": "stream",
     "text": [
      "49\n"
     ]
    }
   ],
   "source": [
    "favorite_number = 42\n",
    "n = favorite_number + 7\n",
    "print(n)"
   ]
  },
  {
   "cell_type": "code",
   "execution_count": 9,
   "id": "01ab0456",
   "metadata": {},
   "outputs": [
    {
     "name": "stdout",
     "output_type": "stream",
     "text": [
      "1\n",
      "2\n",
      "8\n"
     ]
    }
   ],
   "source": [
    "x = 1\n",
    "print(x)\n",
    "\n",
    "x = x + 1\n",
    "print(x)\n",
    "\n",
    "x = x * 3 + x\n",
    "print(x)"
   ]
  },
  {
   "cell_type": "code",
   "execution_count": 23,
   "id": "1789a839",
   "metadata": {},
   "outputs": [
    {
     "data": {
      "text/plain": [
       "140698296969648"
      ]
     },
     "execution_count": 23,
     "metadata": {},
     "output_type": "execute_result"
    }
   ],
   "source": [
    "x = 5\n",
    "id(x)"
   ]
  },
  {
   "cell_type": "code",
   "execution_count": 24,
   "id": "3de6f275",
   "metadata": {},
   "outputs": [
    {
     "data": {
      "text/plain": [
       "140698296969648"
      ]
     },
     "execution_count": 24,
     "metadata": {},
     "output_type": "execute_result"
    }
   ],
   "source": [
    "y = x\n",
    "id(y)"
   ]
  },
  {
   "cell_type": "markdown",
   "id": "0fd4138d",
   "metadata": {},
   "source": [
    "## Booleans\n",
    "2 boolean values: True or False\n",
    "\n",
    "Boolean values can be compared with == and != operators, which themselves produce a boolean value.\n",
    "\n"
   ]
  },
  {
   "cell_type": "code",
   "execution_count": 15,
   "id": "e595c8ea",
   "metadata": {},
   "outputs": [
    {
     "data": {
      "text/plain": [
       "True"
      ]
     },
     "execution_count": 15,
     "metadata": {},
     "output_type": "execute_result"
    }
   ],
   "source": [
    "True == True # True\n",
    "True == False # False\n",
    "True != True # False\n",
    "True != False # True"
   ]
  },
  {
   "cell_type": "markdown",
   "id": "db43d392",
   "metadata": {},
   "source": [
    "Boolean values can be combined with $\\color{red}{\\text{and}}$ & $\\color{red}{\\text{or}}$ operators."
   ]
  },
  {
   "cell_type": "code",
   "execution_count": 25,
   "id": "fa8fdeac",
   "metadata": {},
   "outputs": [
    {
     "data": {
      "text/plain": [
       "True"
      ]
     },
     "execution_count": 25,
     "metadata": {},
     "output_type": "execute_result"
    }
   ],
   "source": [
    "True and True # True\n",
    "True and False # False\n",
    "True or False # True"
   ]
  },
  {
   "cell_type": "markdown",
   "id": "8b826aad",
   "metadata": {},
   "source": [
    "## Numbers\n",
    "2 main types that represent numbers: int & float"
   ]
  },
  {
   "cell_type": "markdown",
   "id": "e1905af6",
   "metadata": {},
   "source": [
    "## Strings\n"
   ]
  },
  {
   "cell_type": "code",
   "execution_count": 1,
   "id": "ae8cbb3e",
   "metadata": {},
   "outputs": [
    {
     "name": "stdout",
     "output_type": "stream",
     "text": [
      "Here is a single quote --> ' <--\n"
     ]
    }
   ],
   "source": [
    "print('Here is a single quote --> \\' <--')"
   ]
  },
  {
   "cell_type": "code",
   "execution_count": 4,
   "id": "5c593b8b",
   "metadata": {},
   "outputs": [
    {
     "name": "stdout",
     "output_type": "stream",
     "text": [
      "Here is a single quote --> ' <-- \n"
     ]
    }
   ],
   "source": [
    "print(\"Here is a single quote --> ' <-- \")"
   ]
  },
  {
   "cell_type": "code",
   "execution_count": 6,
   "id": "df73e92f",
   "metadata": {},
   "outputs": [
    {
     "name": "stdout",
     "output_type": "stream",
     "text": [
      "\n"
     ]
    }
   ],
   "source": [
    "print()"
   ]
  },
  {
   "cell_type": "code",
   "execution_count": 7,
   "id": "29d9aa99",
   "metadata": {
    "scrolled": true
   },
   "outputs": [
    {
     "name": "stdout",
     "output_type": "stream",
     "text": [
      "This string\n",
      "contains a newline\n"
     ]
    }
   ],
   "source": [
    "print('This string\\ncontains a newline')"
   ]
  },
  {
   "cell_type": "markdown",
   "id": "10effe35",
   "metadata": {},
   "source": [
    "## String Formatting\n",
    "%\n",
    "\n",
    ".format\n",
    "\n",
    "f-stirngs"
   ]
  },
  {
   "cell_type": "code",
   "execution_count": 8,
   "id": "129a84a9",
   "metadata": {},
   "outputs": [
    {
     "data": {
      "text/plain": [
       "'Hello, World!'"
      ]
     },
     "execution_count": 8,
     "metadata": {},
     "output_type": "execute_result"
    }
   ],
   "source": [
    "name = 'World'\n",
    "'Hello, %s!' % name"
   ]
  },
  {
   "cell_type": "code",
   "execution_count": 9,
   "id": "144f60cf",
   "metadata": {},
   "outputs": [
    {
     "data": {
      "text/plain": [
       "'Hello, World!'"
      ]
     },
     "execution_count": 9,
     "metadata": {},
     "output_type": "execute_result"
    }
   ],
   "source": [
    "'Hello, {}!'.format(name)"
   ]
  },
  {
   "cell_type": "code",
   "execution_count": 10,
   "id": "f1ccad84",
   "metadata": {},
   "outputs": [
    {
     "data": {
      "text/plain": [
       "'Hello World!'"
      ]
     },
     "execution_count": 10,
     "metadata": {},
     "output_type": "execute_result"
    }
   ],
   "source": [
    "f'Hello {name}!'"
   ]
  },
  {
   "cell_type": "markdown",
   "id": "d1f6ebaa",
   "metadata": {},
   "source": [
    "## String Methods\n",
    "- .lower and .upper\n",
    "- .strip\n",
    "- .isdigit\n",
    "- .split\n",
    "- .join\n"
   ]
  },
  {
   "cell_type": "code",
   "execution_count": 14,
   "id": "06eb65a5",
   "metadata": {},
   "outputs": [],
   "source": [
    "s = '       Hello, Codeup!    '"
   ]
  },
  {
   "cell_type": "code",
   "execution_count": 15,
   "id": "98fc613d",
   "metadata": {},
   "outputs": [
    {
     "data": {
      "text/plain": [
       "'Hello, Codeup!'"
      ]
     },
     "execution_count": 15,
     "metadata": {},
     "output_type": "execute_result"
    }
   ],
   "source": [
    "s.strip() # removes any leading and trailing whitespace from the string"
   ]
  },
  {
   "cell_type": "code",
   "execution_count": 16,
   "id": "40486f04",
   "metadata": {},
   "outputs": [
    {
     "data": {
      "text/plain": [
       "False"
      ]
     },
     "execution_count": 16,
     "metadata": {},
     "output_type": "execute_result"
    }
   ],
   "source": [
    "s.isdigit() # test whether or not the string is a number"
   ]
  },
  {
   "cell_type": "code",
   "execution_count": 17,
   "id": "a469c43c",
   "metadata": {},
   "outputs": [
    {
     "data": {
      "text/plain": [
       "True"
      ]
     },
     "execution_count": 17,
     "metadata": {},
     "output_type": "execute_result"
    }
   ],
   "source": [
    "'123'.isdigit()"
   ]
  },
  {
   "cell_type": "code",
   "execution_count": 18,
   "id": "e5e94507",
   "metadata": {},
   "outputs": [
    {
     "data": {
      "text/plain": [
       "['Hello', ' Codeup!']"
      ]
     },
     "execution_count": 18,
     "metadata": {},
     "output_type": "execute_result"
    }
   ],
   "source": [
    "s.strip().split(',') # convert a string to a list"
   ]
  },
  {
   "cell_type": "code",
   "execution_count": 20,
   "id": "08552ca8",
   "metadata": {},
   "outputs": [
    {
     "data": {
      "text/plain": [
       "'one, two, three'"
      ]
     },
     "execution_count": 20,
     "metadata": {},
     "output_type": "execute_result"
    }
   ],
   "source": [
    "', '.join(['one', 'two', 'three']) # convert a list to a string"
   ]
  },
  {
   "cell_type": "markdown",
   "id": "8a3ef659",
   "metadata": {},
   "source": [
    "## Lists\n"
   ]
  },
  {
   "cell_type": "code",
   "execution_count": 22,
   "id": "172d0b39",
   "metadata": {},
   "outputs": [
    {
     "data": {
      "text/plain": [
       "[1, 2, 3]"
      ]
     },
     "execution_count": 22,
     "metadata": {},
     "output_type": "execute_result"
    }
   ],
   "source": [
    "[1, 2, 3] # a list with 3 numbers"
   ]
  },
  {
   "cell_type": "code",
   "execution_count": 21,
   "id": "dfd5ecff",
   "metadata": {},
   "outputs": [
    {
     "data": {
      "text/plain": [
       "['one', 'two', 'three']"
      ]
     },
     "execution_count": 21,
     "metadata": {},
     "output_type": "execute_result"
    }
   ],
   "source": [
    "['one', 'two', 'three'] # a list with 3 strings\n"
   ]
  },
  {
   "cell_type": "code",
   "execution_count": 23,
   "id": "421aa1de",
   "metadata": {},
   "outputs": [
    {
     "data": {
      "text/plain": [
       "[[1, 2, 3], [4, 5, 6], [7, 8, 9]]"
      ]
     },
     "execution_count": 23,
     "metadata": {},
     "output_type": "execute_result"
    }
   ],
   "source": [
    "[[1, 2, 3], [4, 5, 6], [7, 8, 9]] # a list of lists of numbers\n"
   ]
  },
  {
   "cell_type": "markdown",
   "id": "fd340174",
   "metadata": {},
   "source": [
    "## List Comprehensions\n",
    "This is a shorthand way to specify what elements should be in a list."
   ]
  },
  {
   "cell_type": "code",
   "execution_count": 24,
   "id": "2faf75b4",
   "metadata": {},
   "outputs": [
    {
     "data": {
      "text/plain": [
       "[0, 1, 2, 3, 4, 5, 6, 7, 8, 9]"
      ]
     },
     "execution_count": 24,
     "metadata": {},
     "output_type": "execute_result"
    }
   ],
   "source": [
    "[n for n in range(10)]"
   ]
  },
  {
   "cell_type": "code",
   "execution_count": 25,
   "id": "0f00b069",
   "metadata": {},
   "outputs": [
    {
     "data": {
      "text/plain": [
       "[0, 2, 4, 6, 8, 10, 12, 14, 16, 18]"
      ]
     },
     "execution_count": 25,
     "metadata": {},
     "output_type": "execute_result"
    }
   ],
   "source": [
    "[n * 2 for n in range(10)]"
   ]
  },
  {
   "cell_type": "code",
   "execution_count": 26,
   "id": "91832964",
   "metadata": {},
   "outputs": [
    {
     "data": {
      "text/plain": [
       "[0, 4, 8, 12, 16]"
      ]
     },
     "execution_count": 26,
     "metadata": {},
     "output_type": "execute_result"
    }
   ],
   "source": [
    "[n * 2 for n in range(10) if n % 2 == 0]"
   ]
  },
  {
   "cell_type": "markdown",
   "id": "c8a84444",
   "metadata": {},
   "source": [
    "## List Operations\n",
    "Items can be added to a list with <font color='green'>.append</font> and removed with <font color='green'>.pop</font>"
   ]
  },
  {
   "cell_type": "code",
   "execution_count": 12,
   "id": "a317becc",
   "metadata": {},
   "outputs": [],
   "source": [
    "numbers = [1, 2, 3]"
   ]
  },
  {
   "cell_type": "code",
   "execution_count": 13,
   "id": "02047ca9",
   "metadata": {},
   "outputs": [
    {
     "data": {
      "text/plain": [
       "[1, 2, 3, 4]"
      ]
     },
     "execution_count": 13,
     "metadata": {},
     "output_type": "execute_result"
    }
   ],
   "source": [
    "numbers.append(4)\n",
    "numbers"
   ]
  },
  {
   "cell_type": "code",
   "execution_count": 14,
   "id": "8f9cff96",
   "metadata": {},
   "outputs": [
    {
     "data": {
      "text/plain": [
       "4"
      ]
     },
     "execution_count": 14,
     "metadata": {},
     "output_type": "execute_result"
    }
   ],
   "source": [
    "numbers.pop()"
   ]
  },
  {
   "cell_type": "code",
   "execution_count": 15,
   "id": "7f5e7a10",
   "metadata": {},
   "outputs": [
    {
     "data": {
      "text/plain": [
       "[1, 2, 3]"
      ]
     },
     "execution_count": 15,
     "metadata": {},
     "output_type": "execute_result"
    }
   ],
   "source": [
    "numbers"
   ]
  },
  {
   "cell_type": "code",
   "execution_count": 16,
   "id": "00967dbd",
   "metadata": {},
   "outputs": [
    {
     "data": {
      "text/plain": [
       "3"
      ]
     },
     "execution_count": 16,
     "metadata": {},
     "output_type": "execute_result"
    }
   ],
   "source": [
    "len(numbers)"
   ]
  },
  {
   "cell_type": "code",
   "execution_count": 17,
   "id": "21bffd2b",
   "metadata": {},
   "outputs": [
    {
     "data": {
      "text/plain": [
       "1"
      ]
     },
     "execution_count": 17,
     "metadata": {},
     "output_type": "execute_result"
    }
   ],
   "source": [
    "numbers[0] # the first element in the list"
   ]
  },
  {
   "cell_type": "code",
   "execution_count": 18,
   "id": "98d8a2f8",
   "metadata": {},
   "outputs": [
    {
     "data": {
      "text/plain": [
       "3"
      ]
     },
     "execution_count": 18,
     "metadata": {},
     "output_type": "execute_result"
    }
   ],
   "source": [
    "numbers[-1] # the last element in the list"
   ]
  },
  {
   "cell_type": "code",
   "execution_count": 38,
   "id": "83c60c51",
   "metadata": {},
   "outputs": [
    {
     "data": {
      "text/plain": [
       "[1, 2]"
      ]
     },
     "execution_count": 38,
     "metadata": {},
     "output_type": "execute_result"
    }
   ],
   "source": [
    "numbers[:2] # everything up to, but not including, the element at index 2"
   ]
  },
  {
   "cell_type": "code",
   "execution_count": 39,
   "id": "3577801e",
   "metadata": {},
   "outputs": [
    {
     "data": {
      "text/plain": [
       "[2]"
      ]
     },
     "execution_count": 39,
     "metadata": {},
     "output_type": "execute_result"
    }
   ],
   "source": [
    "numbers[1:2] # everthing from index 1 up to, but not including, index 2"
   ]
  },
  {
   "cell_type": "code",
   "execution_count": 40,
   "id": "39745675",
   "metadata": {},
   "outputs": [
    {
     "data": {
      "text/plain": [
       "[2, 3]"
      ]
     },
     "execution_count": 40,
     "metadata": {},
     "output_type": "execute_result"
    }
   ],
   "source": [
    "numbers[1:] # everything from index 1 to the end of the list"
   ]
  },
  {
   "cell_type": "code",
   "execution_count": 19,
   "id": "b4454265",
   "metadata": {},
   "outputs": [
    {
     "data": {
      "text/plain": [
       "['k', 'a', 'l', 'p', 'a', 'n', 'a']"
      ]
     },
     "execution_count": 19,
     "metadata": {},
     "output_type": "execute_result"
    }
   ],
   "source": [
    "list('kalpana') # convert the string into a list of characters"
   ]
  },
  {
   "cell_type": "code",
   "execution_count": 22,
   "id": "cf5f2e0b",
   "metadata": {},
   "outputs": [
    {
     "name": "stdout",
     "output_type": "stream",
     "text": [
      "a\n",
      "a\n",
      "a\n"
     ]
    }
   ],
   "source": [
    "for element in list('kalpana'):\n",
    "    if element.lower() in ('a', 'e', 'i', 'o', 'u'):\n",
    "        print(element)"
   ]
  },
  {
   "cell_type": "markdown",
   "id": "9a575e54",
   "metadata": {},
   "source": [
    "## Tuples\n",
    "Tuples are like lists, except that they are IMMUTABLE, meaning they can't be changed."
   ]
  },
  {
   "cell_type": "code",
   "execution_count": 23,
   "id": "eccb6271",
   "metadata": {},
   "outputs": [],
   "source": [
    "x = ('c', 'd', 'b')"
   ]
  },
  {
   "cell_type": "code",
   "execution_count": 24,
   "id": "d0d63218",
   "metadata": {},
   "outputs": [
    {
     "data": {
      "text/plain": [
       "'b'"
      ]
     },
     "execution_count": 24,
     "metadata": {},
     "output_type": "execute_result"
    }
   ],
   "source": [
    "x[-1]"
   ]
  },
  {
   "cell_type": "code",
   "execution_count": 25,
   "id": "5685443c",
   "metadata": {},
   "outputs": [
    {
     "ename": "TypeError",
     "evalue": "'tuple' object does not support item assignment",
     "output_type": "error",
     "traceback": [
      "\u001b[0;31m---------------------------------------------------------------------------\u001b[0m",
      "\u001b[0;31mTypeError\u001b[0m                                 Traceback (most recent call last)",
      "Input \u001b[0;32mIn [25]\u001b[0m, in \u001b[0;36m<cell line: 1>\u001b[0;34m()\u001b[0m\n\u001b[0;32m----> 1\u001b[0m x[\u001b[38;5;241m0\u001b[39m] \u001b[38;5;241m=\u001b[39m \u001b[38;5;124m'\u001b[39m\u001b[38;5;124mz\u001b[39m\u001b[38;5;124m'\u001b[39m\n",
      "\u001b[0;31mTypeError\u001b[0m: 'tuple' object does not support item assignment"
     ]
    }
   ],
   "source": [
    "x[0] = 'z'"
   ]
  },
  {
   "cell_type": "code",
   "execution_count": 26,
   "id": "85edc69f",
   "metadata": {},
   "outputs": [
    {
     "name": "stdout",
     "output_type": "stream",
     "text": [
      "C\n",
      "D\n",
      "B\n"
     ]
    }
   ],
   "source": [
    "for char in x:\n",
    "    print(char.upper())"
   ]
  },
  {
   "cell_type": "markdown",
   "id": "77e87f93",
   "metadata": {},
   "source": [
    "## Dictionaries\n",
    "Dictionaries are a way to group values together and give a name to each value. The names for the values in a dictionary are sometimes called keys. It is common to refer to a dictionary as a group of key-value pairs.\n",
    "\n",
    "Dictionaries can be created by writing a dictionary literal, which is delimeted with curly braces, and the keys are separated from the values with a colon, and key-value pairs are separated by commas.\n",
    "\n",
    "\n"
   ]
  },
  {
   "cell_type": "code",
   "execution_count": null,
   "id": "36f2fbcc",
   "metadata": {},
   "outputs": [],
   "source": [
    "## indexing\n",
    "## keys, values and items\n",
    "## update\n",
    "## del or pop"
   ]
  },
  {
   "cell_type": "code",
   "execution_count": 49,
   "id": "f532077b",
   "metadata": {},
   "outputs": [],
   "source": [
    "student = {'name': 'Kalpana', 'age': 26, 'pet': 'cat'}"
   ]
  },
  {
   "cell_type": "code",
   "execution_count": 29,
   "id": "ba1bfbf1",
   "metadata": {},
   "outputs": [
    {
     "data": {
      "text/plain": [
       "'Kalpana'"
      ]
     },
     "execution_count": 29,
     "metadata": {},
     "output_type": "execute_result"
    }
   ],
   "source": [
    "student['name']"
   ]
  },
  {
   "cell_type": "code",
   "execution_count": 30,
   "id": "89c22da1",
   "metadata": {},
   "outputs": [
    {
     "data": {
      "text/plain": [
       "'cat'"
      ]
     },
     "execution_count": 30,
     "metadata": {},
     "output_type": "execute_result"
    }
   ],
   "source": [
    "student['pet']"
   ]
  },
  {
   "cell_type": "code",
   "execution_count": 31,
   "id": "2f218277",
   "metadata": {},
   "outputs": [],
   "source": [
    "# update the dictionary\n",
    "\n",
    "student['age'] = 25"
   ]
  },
  {
   "cell_type": "code",
   "execution_count": 32,
   "id": "20cacaeb",
   "metadata": {},
   "outputs": [
    {
     "data": {
      "text/plain": [
       "{'name': 'Kalpana', 'age': 25, 'pet': 'cat'}"
      ]
     },
     "execution_count": 32,
     "metadata": {},
     "output_type": "execute_result"
    }
   ],
   "source": [
    "student"
   ]
  },
  {
   "cell_type": "code",
   "execution_count": 50,
   "id": "4a160406",
   "metadata": {},
   "outputs": [],
   "source": [
    "# add a key-value pair\n",
    "\n",
    "student['color'] = 'red'"
   ]
  },
  {
   "cell_type": "code",
   "execution_count": 51,
   "id": "360c8ce7",
   "metadata": {},
   "outputs": [
    {
     "data": {
      "text/plain": [
       "{'name': 'Kalpana', 'age': 26, 'pet': 'cat', 'color': 'red'}"
      ]
     },
     "execution_count": 51,
     "metadata": {},
     "output_type": "execute_result"
    }
   ],
   "source": [
    "student"
   ]
  },
  {
   "cell_type": "code",
   "execution_count": 36,
   "id": "62982d84",
   "metadata": {},
   "outputs": [],
   "source": [
    "# update add new key-values pair or update existing info\n",
    "\n",
    "student.update({'age': 27, 'car': 'tesla'})"
   ]
  },
  {
   "cell_type": "code",
   "execution_count": 37,
   "id": "923c11da",
   "metadata": {},
   "outputs": [
    {
     "data": {
      "text/plain": [
       "{'name': 'Kalpana', 'age': 27, 'pet': 'cat', 'color': 'red', 'car': 'tesla'}"
      ]
     },
     "execution_count": 37,
     "metadata": {},
     "output_type": "execute_result"
    }
   ],
   "source": [
    "student"
   ]
  },
  {
   "cell_type": "code",
   "execution_count": 38,
   "id": "b2fbc4c6",
   "metadata": {},
   "outputs": [],
   "source": [
    "# delete a key-value pair\n",
    "\n",
    "del student['car']"
   ]
  },
  {
   "cell_type": "code",
   "execution_count": 39,
   "id": "24f2cb69",
   "metadata": {},
   "outputs": [
    {
     "data": {
      "text/plain": [
       "{'name': 'Kalpana', 'age': 27, 'pet': 'cat', 'color': 'red'}"
      ]
     },
     "execution_count": 39,
     "metadata": {},
     "output_type": "execute_result"
    }
   ],
   "source": [
    "student"
   ]
  },
  {
   "cell_type": "code",
   "execution_count": 40,
   "id": "ba357935",
   "metadata": {},
   "outputs": [
    {
     "name": "stdout",
     "output_type": "stream",
     "text": [
      "name\n",
      "age\n",
      "pet\n",
      "color\n"
     ]
    }
   ],
   "source": [
    "for element in student:\n",
    "    print(element)"
   ]
  },
  {
   "cell_type": "code",
   "execution_count": 41,
   "id": "9f64e9b8",
   "metadata": {},
   "outputs": [
    {
     "data": {
      "text/plain": [
       "dict_keys(['name', 'age', 'pet', 'color'])"
      ]
     },
     "execution_count": 41,
     "metadata": {},
     "output_type": "execute_result"
    }
   ],
   "source": [
    "# grab keys for the dictionary\n",
    "\n",
    "student.keys()"
   ]
  },
  {
   "cell_type": "code",
   "execution_count": 43,
   "id": "70ed5926",
   "metadata": {},
   "outputs": [
    {
     "data": {
      "text/plain": [
       "dict_values(['Kalpana', 27, 'cat', 'red'])"
      ]
     },
     "execution_count": 43,
     "metadata": {},
     "output_type": "execute_result"
    }
   ],
   "source": [
    "# grab values from the dictionary\n",
    "\n",
    "student.values()"
   ]
  },
  {
   "cell_type": "code",
   "execution_count": 44,
   "id": "9bed1dd8",
   "metadata": {},
   "outputs": [
    {
     "data": {
      "text/plain": [
       "dict_items([('name', 'Kalpana'), ('age', 27), ('pet', 'cat'), ('color', 'red')])"
      ]
     },
     "execution_count": 44,
     "metadata": {},
     "output_type": "execute_result"
    }
   ],
   "source": [
    "# returns both keys and values\n",
    "\n",
    "student.items()"
   ]
  },
  {
   "cell_type": "code",
   "execution_count": 46,
   "id": "44297ed1",
   "metadata": {},
   "outputs": [
    {
     "name": "stdout",
     "output_type": "stream",
     "text": [
      "NAME Kalpana\n",
      "AGE 27\n",
      "PET cat\n",
      "COLOR red\n"
     ]
    }
   ],
   "source": [
    "# loop through each key-value pair using .itmes()\n",
    "\n",
    "for key, value in student.items():\n",
    "    print(key.upper(), value)"
   ]
  },
  {
   "cell_type": "code",
   "execution_count": 52,
   "id": "55183baf",
   "metadata": {},
   "outputs": [],
   "source": [
    "# multiple values for a key\n",
    "\n",
    "student.update({'color': ['red', 'black']})"
   ]
  },
  {
   "cell_type": "code",
   "execution_count": 53,
   "id": "276c2c61",
   "metadata": {},
   "outputs": [
    {
     "data": {
      "text/plain": [
       "{'name': 'Kalpana', 'age': 26, 'pet': 'cat', 'color': ['red', 'black']}"
      ]
     },
     "execution_count": 53,
     "metadata": {},
     "output_type": "execute_result"
    }
   ],
   "source": [
    "student"
   ]
  },
  {
   "cell_type": "code",
   "execution_count": 54,
   "id": "80ff0b8f",
   "metadata": {},
   "outputs": [
    {
     "data": {
      "text/plain": [
       "'black'"
      ]
     },
     "execution_count": 54,
     "metadata": {},
     "output_type": "execute_result"
    }
   ],
   "source": [
    "student['color'][-1]"
   ]
  },
  {
   "cell_type": "code",
   "execution_count": null,
   "id": "41eaf825",
   "metadata": {},
   "outputs": [],
   "source": []
  }
 ],
 "metadata": {
  "kernelspec": {
   "display_name": "Python 3 (ipykernel)",
   "language": "python",
   "name": "python3"
  },
  "language_info": {
   "codemirror_mode": {
    "name": "ipython",
    "version": 3
   },
   "file_extension": ".py",
   "mimetype": "text/x-python",
   "name": "python",
   "nbconvert_exporter": "python",
   "pygments_lexer": "ipython3",
   "version": "3.9.12"
  }
 },
 "nbformat": 4,
 "nbformat_minor": 5
}
