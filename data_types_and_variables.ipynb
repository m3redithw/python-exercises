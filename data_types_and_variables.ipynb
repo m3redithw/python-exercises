{
 "cells": [
  {
   "cell_type": "markdown",
   "id": "cd577ec7",
   "metadata": {},
   "source": [
    "## Data Types, Variables, and Operators\n",
    "\n",
    "- bool: boolean values, either True or False; an answer to a yes/no question\n",
    "- str (string) a sequence of characters \"strung\" together\n",
    "- int: whole, or counting numbers\n",
    "- float: decimal numbers\n",
    "- list: an ordered sequence of objects\n",
    "- dict: a collection of values that have names\n",
    "- NoneType: a special value that indicates absence of a value"
   ]
  },
  {
   "cell_type": "code",
   "execution_count": 1,
   "id": "310ddb31",
   "metadata": {},
   "outputs": [
    {
     "data": {
      "text/plain": [
       "int"
      ]
     },
     "execution_count": 1,
     "metadata": {},
     "output_type": "execute_result"
    }
   ],
   "source": [
    "type(123)"
   ]
  },
  {
   "cell_type": "code",
   "execution_count": 2,
   "id": "83d154b5",
   "metadata": {},
   "outputs": [
    {
     "data": {
      "text/plain": [
       "str"
      ]
     },
     "execution_count": 2,
     "metadata": {},
     "output_type": "execute_result"
    }
   ],
   "source": [
    "type('Hello')"
   ]
  },
  {
   "cell_type": "code",
   "execution_count": 4,
   "id": "a652a06c",
   "metadata": {},
   "outputs": [
    {
     "data": {
      "text/plain": [
       "bool"
      ]
     },
     "execution_count": 4,
     "metadata": {},
     "output_type": "execute_result"
    }
   ],
   "source": [
    "type(True)"
   ]
  },
  {
   "cell_type": "code",
   "execution_count": 21,
   "id": "9dd0941f",
   "metadata": {},
   "outputs": [
    {
     "name": "stdout",
     "output_type": "stream",
     "text": [
      "Please enter your age: 22\n"
     ]
    }
   ],
   "source": [
    "age = input('Please enter your age: ')"
   ]
  },
  {
   "cell_type": "code",
   "execution_count": 22,
   "id": "13c4bb98",
   "metadata": {},
   "outputs": [
    {
     "data": {
      "text/plain": [
       "str"
      ]
     },
     "execution_count": 22,
     "metadata": {},
     "output_type": "execute_result"
    }
   ],
   "source": [
    "type (age) # input type will always be string"
   ]
  },
  {
   "cell_type": "markdown",
   "id": "7fc6e60a",
   "metadata": {},
   "source": [
    "## Variables\n",
    "Variables are created by choosing a valid identifier and using the assignment operator, =.\n",
    "\n",
    "= operator **DOES NOT** mean equal to, it means *assign* to.\n",
    "\n",
    "== to express equality comparison in Python."
   ]
  },
  {
   "cell_type": "code",
   "execution_count": 6,
   "id": "94f116eb",
   "metadata": {},
   "outputs": [
    {
     "name": "stdout",
     "output_type": "stream",
     "text": [
      "49\n"
     ]
    }
   ],
   "source": [
    "favorite_number = 42\n",
    "n = favorite_number + 7\n",
    "print(n)"
   ]
  },
  {
   "cell_type": "code",
   "execution_count": 9,
   "id": "01ab0456",
   "metadata": {},
   "outputs": [
    {
     "name": "stdout",
     "output_type": "stream",
     "text": [
      "1\n",
      "2\n",
      "8\n"
     ]
    }
   ],
   "source": [
    "x = 1\n",
    "print(x)\n",
    "\n",
    "x = x + 1\n",
    "print(x)\n",
    "\n",
    "x = x * 3 + x\n",
    "print(x)"
   ]
  },
  {
   "cell_type": "code",
   "execution_count": 23,
   "id": "1789a839",
   "metadata": {},
   "outputs": [
    {
     "data": {
      "text/plain": [
       "140698296969648"
      ]
     },
     "execution_count": 23,
     "metadata": {},
     "output_type": "execute_result"
    }
   ],
   "source": [
    "x = 5\n",
    "id(x)"
   ]
  },
  {
   "cell_type": "code",
   "execution_count": 24,
   "id": "3de6f275",
   "metadata": {},
   "outputs": [
    {
     "data": {
      "text/plain": [
       "140698296969648"
      ]
     },
     "execution_count": 24,
     "metadata": {},
     "output_type": "execute_result"
    }
   ],
   "source": [
    "y = x\n",
    "id(y)"
   ]
  },
  {
   "cell_type": "markdown",
   "id": "0fd4138d",
   "metadata": {},
   "source": [
    "## Booleans\n",
    "2 boolean values: True or False\n",
    "\n",
    "Boolean values can be compared with == and != operators, which themselves produce a boolean value.\n",
    "\n"
   ]
  },
  {
   "cell_type": "code",
   "execution_count": 15,
   "id": "e595c8ea",
   "metadata": {},
   "outputs": [
    {
     "data": {
      "text/plain": [
       "True"
      ]
     },
     "execution_count": 15,
     "metadata": {},
     "output_type": "execute_result"
    }
   ],
   "source": [
    "True == True # True\n",
    "True == False # False\n",
    "True != True # False\n",
    "True != False # True"
   ]
  },
  {
   "cell_type": "markdown",
   "id": "db43d392",
   "metadata": {},
   "source": [
    "Boolean values can be combined with $\\color{red}{\\text{and}}$ & $\\color{red}{\\text{or}}$ operators."
   ]
  },
  {
   "cell_type": "code",
   "execution_count": 25,
   "id": "fa8fdeac",
   "metadata": {},
   "outputs": [
    {
     "data": {
      "text/plain": [
       "True"
      ]
     },
     "execution_count": 25,
     "metadata": {},
     "output_type": "execute_result"
    }
   ],
   "source": [
    "True and True # True\n",
    "True and False # False\n",
    "True or False # True"
   ]
  },
  {
   "cell_type": "markdown",
   "id": "8b826aad",
   "metadata": {},
   "source": [
    "## Numbers\n",
    "2 main types that represent numbers: int & float"
   ]
  },
  {
   "cell_type": "markdown",
   "id": "e1905af6",
   "metadata": {},
   "source": [
    "## Strings\n"
   ]
  },
  {
   "cell_type": "code",
   "execution_count": 1,
   "id": "ae8cbb3e",
   "metadata": {},
   "outputs": [
    {
     "name": "stdout",
     "output_type": "stream",
     "text": [
      "Here is a single quote --> ' <--\n"
     ]
    }
   ],
   "source": [
    "print('Here is a single quote --> \\' <--')"
   ]
  },
  {
   "cell_type": "code",
   "execution_count": 4,
   "id": "5c593b8b",
   "metadata": {},
   "outputs": [
    {
     "name": "stdout",
     "output_type": "stream",
     "text": [
      "Here is a single quote --> ' <-- \n"
     ]
    }
   ],
   "source": [
    "print(\"Here is a single quote --> ' <-- \")"
   ]
  },
  {
   "cell_type": "code",
   "execution_count": 6,
   "id": "df73e92f",
   "metadata": {},
   "outputs": [
    {
     "name": "stdout",
     "output_type": "stream",
     "text": [
      "\n"
     ]
    }
   ],
   "source": [
    "print()"
   ]
  },
  {
   "cell_type": "code",
   "execution_count": 7,
   "id": "29d9aa99",
   "metadata": {
    "scrolled": true
   },
   "outputs": [
    {
     "name": "stdout",
     "output_type": "stream",
     "text": [
      "This string\n",
      "contains a newline\n"
     ]
    }
   ],
   "source": [
    "print('This string\\ncontains a newline')"
   ]
  },
  {
   "cell_type": "markdown",
   "id": "10effe35",
   "metadata": {},
   "source": [
    "## String Formatting\n",
    "%\n",
    "\n",
    ".format\n",
    "\n",
    "f-stirngs"
   ]
  },
  {
   "cell_type": "code",
   "execution_count": 8,
   "id": "129a84a9",
   "metadata": {},
   "outputs": [
    {
     "data": {
      "text/plain": [
       "'Hello, World!'"
      ]
     },
     "execution_count": 8,
     "metadata": {},
     "output_type": "execute_result"
    }
   ],
   "source": [
    "name = 'World'\n",
    "'Hello, %s!' % name"
   ]
  },
  {
   "cell_type": "code",
   "execution_count": 9,
   "id": "144f60cf",
   "metadata": {},
   "outputs": [
    {
     "data": {
      "text/plain": [
       "'Hello, World!'"
      ]
     },
     "execution_count": 9,
     "metadata": {},
     "output_type": "execute_result"
    }
   ],
   "source": [
    "'Hello, {}!'.format(name)"
   ]
  },
  {
   "cell_type": "code",
   "execution_count": 10,
   "id": "f1ccad84",
   "metadata": {},
   "outputs": [
    {
     "data": {
      "text/plain": [
       "'Hello World!'"
      ]
     },
     "execution_count": 10,
     "metadata": {},
     "output_type": "execute_result"
    }
   ],
   "source": [
    "f'Hello {name}!'"
   ]
  },
  {
   "cell_type": "markdown",
   "id": "d1f6ebaa",
   "metadata": {},
   "source": [
    "## String Methods\n",
    "- .lower and .upper\n",
    "- .strip\n",
    "- .isdigit\n",
    "- .split\n",
    "- .join\n"
   ]
  },
  {
   "cell_type": "code",
   "execution_count": 14,
   "id": "06eb65a5",
   "metadata": {},
   "outputs": [],
   "source": [
    "s = '       Hello, Codeup!    '"
   ]
  },
  {
   "cell_type": "code",
   "execution_count": 15,
   "id": "98fc613d",
   "metadata": {},
   "outputs": [
    {
     "data": {
      "text/plain": [
       "'Hello, Codeup!'"
      ]
     },
     "execution_count": 15,
     "metadata": {},
     "output_type": "execute_result"
    }
   ],
   "source": [
    "s.strip() # removes any leading and trailing whitespace from the string"
   ]
  },
  {
   "cell_type": "code",
   "execution_count": 16,
   "id": "40486f04",
   "metadata": {},
   "outputs": [
    {
     "data": {
      "text/plain": [
       "False"
      ]
     },
     "execution_count": 16,
     "metadata": {},
     "output_type": "execute_result"
    }
   ],
   "source": [
    "s.isdigit() # test whether or not the string is a number"
   ]
  },
  {
   "cell_type": "code",
   "execution_count": 17,
   "id": "a469c43c",
   "metadata": {},
   "outputs": [
    {
     "data": {
      "text/plain": [
       "True"
      ]
     },
     "execution_count": 17,
     "metadata": {},
     "output_type": "execute_result"
    }
   ],
   "source": [
    "'123'.isdigit()"
   ]
  },
  {
   "cell_type": "code",
   "execution_count": 18,
   "id": "e5e94507",
   "metadata": {},
   "outputs": [
    {
     "data": {
      "text/plain": [
       "['Hello', ' Codeup!']"
      ]
     },
     "execution_count": 18,
     "metadata": {},
     "output_type": "execute_result"
    }
   ],
   "source": [
    "s.strip().split(',') # convert a string to a list"
   ]
  },
  {
   "cell_type": "code",
   "execution_count": 20,
   "id": "08552ca8",
   "metadata": {},
   "outputs": [
    {
     "data": {
      "text/plain": [
       "'one, two, three'"
      ]
     },
     "execution_count": 20,
     "metadata": {},
     "output_type": "execute_result"
    }
   ],
   "source": [
    "', '.join(['one', 'two', 'three']) # convert a list to a string"
   ]
  },
  {
   "cell_type": "markdown",
   "id": "8a3ef659",
   "metadata": {},
   "source": [
    "## Lists\n"
   ]
  },
  {
   "cell_type": "code",
   "execution_count": 22,
   "id": "172d0b39",
   "metadata": {},
   "outputs": [
    {
     "data": {
      "text/plain": [
       "[1, 2, 3]"
      ]
     },
     "execution_count": 22,
     "metadata": {},
     "output_type": "execute_result"
    }
   ],
   "source": [
    "[1, 2, 3] # a list with 3 numbers"
   ]
  },
  {
   "cell_type": "code",
   "execution_count": 21,
   "id": "dfd5ecff",
   "metadata": {},
   "outputs": [
    {
     "data": {
      "text/plain": [
       "['one', 'two', 'three']"
      ]
     },
     "execution_count": 21,
     "metadata": {},
     "output_type": "execute_result"
    }
   ],
   "source": [
    "['one', 'two', 'three'] # a list with 3 strings\n"
   ]
  },
  {
   "cell_type": "code",
   "execution_count": 23,
   "id": "421aa1de",
   "metadata": {},
   "outputs": [
    {
     "data": {
      "text/plain": [
       "[[1, 2, 3], [4, 5, 6], [7, 8, 9]]"
      ]
     },
     "execution_count": 23,
     "metadata": {},
     "output_type": "execute_result"
    }
   ],
   "source": [
    "[[1, 2, 3], [4, 5, 6], [7, 8, 9]] # a list of lists of numbers\n"
   ]
  },
  {
   "cell_type": "markdown",
   "id": "fd340174",
   "metadata": {},
   "source": [
    "## List Comprehensions\n",
    "This is a shorthand way to specify what elements should be in a list."
   ]
  },
  {
   "cell_type": "code",
   "execution_count": 24,
   "id": "2faf75b4",
   "metadata": {},
   "outputs": [
    {
     "data": {
      "text/plain": [
       "[0, 1, 2, 3, 4, 5, 6, 7, 8, 9]"
      ]
     },
     "execution_count": 24,
     "metadata": {},
     "output_type": "execute_result"
    }
   ],
   "source": [
    "[n for n in range(10)]"
   ]
  },
  {
   "cell_type": "code",
   "execution_count": 25,
   "id": "0f00b069",
   "metadata": {},
   "outputs": [
    {
     "data": {
      "text/plain": [
       "[0, 2, 4, 6, 8, 10, 12, 14, 16, 18]"
      ]
     },
     "execution_count": 25,
     "metadata": {},
     "output_type": "execute_result"
    }
   ],
   "source": [
    "[n * 2 for n in range(10)]"
   ]
  },
  {
   "cell_type": "code",
   "execution_count": 26,
   "id": "91832964",
   "metadata": {},
   "outputs": [
    {
     "data": {
      "text/plain": [
       "[0, 4, 8, 12, 16]"
      ]
     },
     "execution_count": 26,
     "metadata": {},
     "output_type": "execute_result"
    }
   ],
   "source": [
    "[n * 2 for n in range(10) if n % 2 == 0]"
   ]
  },
  {
   "cell_type": "markdown",
   "id": "c8a84444",
   "metadata": {},
   "source": [
    "## List Operations\n",
    "Items can be added to a list with <font color='green'>.append</font> and removed with <font color='green'>.pop</font>"
   ]
  },
  {
   "cell_type": "code",
   "execution_count": 32,
   "id": "a317becc",
   "metadata": {},
   "outputs": [],
   "source": [
    "numbers = [1, 2, 3]"
   ]
  },
  {
   "cell_type": "code",
   "execution_count": 33,
   "id": "02047ca9",
   "metadata": {},
   "outputs": [
    {
     "data": {
      "text/plain": [
       "[1, 2, 3, 4]"
      ]
     },
     "execution_count": 33,
     "metadata": {},
     "output_type": "execute_result"
    }
   ],
   "source": [
    "numbers.append(4)\n",
    "numbers"
   ]
  },
  {
   "cell_type": "code",
   "execution_count": 34,
   "id": "8f9cff96",
   "metadata": {},
   "outputs": [
    {
     "data": {
      "text/plain": [
       "4"
      ]
     },
     "execution_count": 34,
     "metadata": {},
     "output_type": "execute_result"
    }
   ],
   "source": [
    "numbers.pop()"
   ]
  },
  {
   "cell_type": "code",
   "execution_count": 35,
   "id": "7f5e7a10",
   "metadata": {},
   "outputs": [
    {
     "data": {
      "text/plain": [
       "[1, 2, 3]"
      ]
     },
     "execution_count": 35,
     "metadata": {},
     "output_type": "execute_result"
    }
   ],
   "source": [
    "numbers"
   ]
  },
  {
   "cell_type": "code",
   "execution_count": 36,
   "id": "00967dbd",
   "metadata": {},
   "outputs": [
    {
     "data": {
      "text/plain": [
       "3"
      ]
     },
     "execution_count": 36,
     "metadata": {},
     "output_type": "execute_result"
    }
   ],
   "source": [
    "len(numbers)"
   ]
  },
  {
   "cell_type": "code",
   "execution_count": 37,
   "id": "21bffd2b",
   "metadata": {},
   "outputs": [
    {
     "data": {
      "text/plain": [
       "1"
      ]
     },
     "execution_count": 37,
     "metadata": {},
     "output_type": "execute_result"
    }
   ],
   "source": [
    "numbers[0] # the first element in the list"
   ]
  },
  {
   "cell_type": "code",
   "execution_count": 38,
   "id": "83c60c51",
   "metadata": {},
   "outputs": [
    {
     "data": {
      "text/plain": [
       "[1, 2]"
      ]
     },
     "execution_count": 38,
     "metadata": {},
     "output_type": "execute_result"
    }
   ],
   "source": [
    "numbers[:2] # everything up to, but not including, the element at index 2"
   ]
  },
  {
   "cell_type": "code",
   "execution_count": 39,
   "id": "3577801e",
   "metadata": {},
   "outputs": [
    {
     "data": {
      "text/plain": [
       "[2]"
      ]
     },
     "execution_count": 39,
     "metadata": {},
     "output_type": "execute_result"
    }
   ],
   "source": [
    "numbers[1:2] # everthing from index 1 up to, but not including, index 2"
   ]
  },
  {
   "cell_type": "code",
   "execution_count": 40,
   "id": "39745675",
   "metadata": {},
   "outputs": [
    {
     "data": {
      "text/plain": [
       "[2, 3]"
      ]
     },
     "execution_count": 40,
     "metadata": {},
     "output_type": "execute_result"
    }
   ],
   "source": [
    "numbers[1:] # everything from index 1 to the end of the list"
   ]
  },
  {
   "cell_type": "code",
   "execution_count": null,
   "id": "b4454265",
   "metadata": {},
   "outputs": [],
   "source": []
  },
  {
   "cell_type": "code",
   "execution_count": null,
   "id": "cf5f2e0b",
   "metadata": {},
   "outputs": [],
   "source": []
  },
  {
   "cell_type": "code",
   "execution_count": null,
   "id": "f594c053",
   "metadata": {},
   "outputs": [],
   "source": []
  },
  {
   "cell_type": "code",
   "execution_count": null,
   "id": "eccb6271",
   "metadata": {},
   "outputs": [],
   "source": []
  },
  {
   "cell_type": "code",
   "execution_count": null,
   "id": "d0d63218",
   "metadata": {},
   "outputs": [],
   "source": []
  }
 ],
 "metadata": {
  "kernelspec": {
   "display_name": "Python 3 (ipykernel)",
   "language": "python",
   "name": "python3"
  },
  "language_info": {
   "codemirror_mode": {
    "name": "ipython",
    "version": 3
   },
   "file_extension": ".py",
   "mimetype": "text/x-python",
   "name": "python",
   "nbconvert_exporter": "python",
   "pygments_lexer": "ipython3",
   "version": "3.9.12"
  }
 },
 "nbformat": 4,
 "nbformat_minor": 5
}
